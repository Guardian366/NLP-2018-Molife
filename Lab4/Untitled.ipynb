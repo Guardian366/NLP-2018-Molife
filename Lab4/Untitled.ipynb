{
 "cells": [
  {
   "cell_type": "code",
   "execution_count": null,
   "metadata": {},
   "outputs": [],
   "source": [
    "import dataiku\n",
    "from dataiku.doctor.deep_learning.shared_variables import get_variable\n",
    "\n",
    "import os\n",
    "import fastText\n",
    "import numpy as np"
   ]
  },
  {
   "cell_type": "code",
   "execution_count": null,
   "metadata": {},
   "outputs": [],
   "source": [
    "folder = dataiku.Folder('fastText_embeddings')\n",
    "folder_path = folder.get_path()\n",
    "\n",
    "embedding_size = 300\n",
    "embedding_model_path = os.path.join(folder_path, 'wiki.en.bin')\n",
    "embedding_model = fastText.load_model(embedding_model_path)\n",
    "processor = get_variable(\"tokenizer_processor\")\n",
    "\n",
    "sorted_word_index = sorted(processor.tokenizer.word_index.items(),\n",
    "                           key=lambda (k, v): v)[:vocabulary_size-1]\n",
    "\n",
    "embedding_matrix = np.zeros((vocabulary_size, embedding_size))\n",
    "for word, i in sorted_word_index:\n",
    "    embedding_matrix[i] = embedding_model.get_word_vector(word)"
   ]
  }
 ],
 "metadata": {
  "kernelspec": {
   "display_name": "Python 3",
   "language": "python",
   "name": "python3"
  },
  "language_info": {
   "codemirror_mode": {
    "name": "ipython",
    "version": 3
   },
   "file_extension": ".py",
   "mimetype": "text/x-python",
   "name": "python",
   "nbconvert_exporter": "python",
   "pygments_lexer": "ipython3",
   "version": "3.6.5"
  }
 },
 "nbformat": 4,
 "nbformat_minor": 2
}
