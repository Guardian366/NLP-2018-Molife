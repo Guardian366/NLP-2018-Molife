{
 "cells": [
  {
   "cell_type": "code",
   "execution_count": 9,
   "metadata": {},
   "outputs": [],
   "source": [
    "#initial test function to check if programming logic works\n",
    "#No matrix, just a simple function\n",
    "def MED(n, m):\n",
    "    \n",
    "    if n == \"\":\n",
    "        return len(m)\n",
    "    if m == \"\":\n",
    "        return len(n)\n",
    "    if n[-1]==m[-1]:\n",
    "        cost = 0\n",
    "    elif n[-1]!=m[-1]:\n",
    "        cost = 2\n",
    "    else:\n",
    "        cost = 1\n",
    "    dist = min (MED(n[:-1],m)+1, MED(n, m[:-1])+1, MED(n[:-1], m[:-1])+cost)\n",
    "    return dist\n",
    "                                                         \n",
    "                                                         "
   ]
  },
  {
   "cell_type": "code",
   "execution_count": 18,
   "metadata": {},
   "outputs": [],
   "source": [
    "def MED_Matrix(n, m):\n",
    "    \n",
    "    rows = len(n)+1                                       #initializing rows using the length of the source string\n",
    "    cols = len(m)+1                                       #initializing columns using length of target string\n",
    "    dist = [[0 for x in range(cols)] for x in range(rows)]#initializing the calculator for distance using imbedded for statements, basically(rows*columns)\n",
    "    for i in range(1, rows):            \n",
    "        dist[i][0] = i                                    #base case (), when target is empty, delete all source and get total cost\n",
    "    for i in range(1, cols):\n",
    "        dist[0][i] = i                                    #base case (), when source is empty, insert characters into target using target as template\n",
    "        \n",
    "    for col in range(1, cols):\n",
    "        for row in range(1, rows):\n",
    "            if n[row-1] == m[col-1]:                     #for case characters are the same, no cost incurred\n",
    "                cost = 0\n",
    "            else:\n",
    "                cost = 2                                    #declaring initial cost of substitution\n",
    "                \n",
    "            #using recursive function, compute matrix whilst keeping track of cost\n",
    "            dist[row][col] = min(dist[row-1][col] + 1,      # deletion\n",
    "                                 dist[row][col-1] + 1,      # insertion\n",
    "                                 dist[row-1][col-1] + cost) # substitution\n",
    "    #print out the matrix, though clumsily\n",
    "    for r in range(rows):\n",
    "        print(dist[r])\n",
    "    \n",
    "    #return the min distance as computed above\n",
    "    return dist[row][col]"
   ]
  },
  {
   "cell_type": "code",
   "execution_count": 19,
   "metadata": {},
   "outputs": [
    {
     "name": "stdout",
     "output_type": "stream",
     "text": [
      "[0, 1, 2, 3, 4, 5, 6, 7, 8, 9]\n",
      "[1, 2, 3, 4, 5, 6, 7, 6, 7, 8]\n",
      "[2, 3, 4, 5, 6, 7, 8, 7, 8, 7]\n",
      "[3, 4, 5, 6, 7, 8, 7, 8, 9, 8]\n",
      "[4, 3, 4, 5, 6, 7, 8, 9, 10, 9]\n",
      "[5, 4, 5, 6, 7, 8, 9, 10, 11, 10]\n",
      "[6, 5, 6, 7, 8, 9, 8, 9, 10, 11]\n",
      "[7, 6, 7, 8, 9, 10, 9, 8, 9, 10]\n",
      "[8, 7, 8, 9, 10, 11, 10, 9, 8, 9]\n",
      "[9, 8, 9, 10, 11, 12, 11, 10, 9, 8]\n",
      "8\n"
     ]
    }
   ],
   "source": [
    "print (MED_Matrix(\"intention\", \"execution\"))"
   ]
  }
 ],
 "metadata": {
  "kernelspec": {
   "display_name": "Python 3",
   "language": "python",
   "name": "python3"
  },
  "language_info": {
   "codemirror_mode": {
    "name": "ipython",
    "version": 3
   },
   "file_extension": ".py",
   "mimetype": "text/x-python",
   "name": "python",
   "nbconvert_exporter": "python",
   "pygments_lexer": "ipython3",
   "version": "3.6.5"
  }
 },
 "nbformat": 4,
 "nbformat_minor": 2
}
