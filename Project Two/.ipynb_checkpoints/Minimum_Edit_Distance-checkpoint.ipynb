{
 "cells": [
  {
   "cell_type": "code",
   "execution_count": 13,
   "metadata": {},
   "outputs": [],
   "source": [
    "#initial test function to check if programming logic works\n",
    "#No matrix, just a simple function\n",
    "def MED(n, m):\n",
    "    \n",
    "    if n == \"\":\n",
    "        return len(m)\n",
    "    if m == \"\":\n",
    "        return len(n)\n",
    "    if n[-1]==m[-1]:\n",
    "        cost = 0\n",
    "    elif n[-1]!=m[-1]:\n",
    "        cost = 2\n",
    "    else:\n",
    "        cost = 1\n",
    "    dist = min (MED(n[:-1],m)+1, MED(n, m[:-1])+1, MED(n[:-1], m[:-1])+cost)\n",
    "    return dist\n",
    "\n",
    "if __name__ == '__MED__':\n",
    "    MED(sys.argv[1:])\n",
    "\n",
    "                                                         "
   ]
  },
  {
   "cell_type": "code",
   "execution_count": 24,
   "metadata": {},
   "outputs": [
    {
     "name": "stdout",
     "output_type": "stream",
     "text": [
      "0\n"
     ]
    }
   ],
   "source": [
    "print(MED(\"\",\"\"))"
   ]
  },
  {
   "cell_type": "code",
   "execution_count": 26,
   "metadata": {},
   "outputs": [],
   "source": [
    "def MED_Matrix(n, m):\n",
    "    \n",
    "    rows = len(n)+1                                       #initializing rows using the length of the source string\n",
    "    cols = len(m)+1                                       #initializing columns using length of target string\n",
    "    dist = [[0 for x in range(cols)] for x in range(rows)]#initializing the calculator for distance using imbedded for statements, basically(rows*columns)\n",
    "    for i in range(1, rows):            \n",
    "        dist[i][0] = i                                    #base case (), when target is empty, delete all source and get total cost\n",
    "    for i in range(1, cols):\n",
    "        dist[0][i] = i                                    #base case (), when source is empty, insert characters into target using target as template\n",
    "        \n",
    "    for col in range(1, cols):\n",
    "        for row in range(1, rows):\n",
    "            if n[row-1] == m[col-1]:                     #for case characters are the same, no cost incurred\n",
    "                cost = 0\n",
    "            else:\n",
    "                cost = 2                                    #declaring initial cost of substitution\n",
    "                \n",
    "            #using recursive function, compute matrix whilst keeping track of cost\n",
    "            dist[row][col] = min(dist[row-1][col] + 1,      # deletion\n",
    "                                 dist[row][col-1] + 1,      # insertion\n",
    "                                 dist[row-1][col-1] + cost) # substitution\n",
    "    #print out the matrix, though clumsily\n",
    "    for r in range(rows):\n",
    "        print(dist[r])\n",
    "    \n",
    "    #return the min distance as computed above\n",
    "    return dist[row][col]\n",
    "\n",
    "if __name__ == '__MED_Matrix__':\n",
    "    MED(sys.argv[1:])"
   ]
  },
  {
   "cell_type": "code",
   "execution_count": 27,
   "metadata": {
    "scrolled": true
   },
   "outputs": [
    {
     "name": "stdout",
     "output_type": "stream",
     "text": [
      "[0]\n"
     ]
    },
    {
     "ename": "UnboundLocalError",
     "evalue": "local variable 'row' referenced before assignment",
     "output_type": "error",
     "traceback": [
      "\u001b[1;31m---------------------------------------------------------------------------\u001b[0m",
      "\u001b[1;31mUnboundLocalError\u001b[0m                         Traceback (most recent call last)",
      "\u001b[1;32m<ipython-input-27-638b8c3b4db2>\u001b[0m in \u001b[0;36m<module>\u001b[1;34m()\u001b[0m\n\u001b[1;32m----> 1\u001b[1;33m \u001b[0mprint\u001b[0m \u001b[1;33m(\u001b[0m\u001b[0mMED_Matrix\u001b[0m\u001b[1;33m(\u001b[0m\u001b[1;34m\"\"\u001b[0m\u001b[1;33m,\u001b[0m \u001b[1;34m\"\"\u001b[0m\u001b[1;33m)\u001b[0m\u001b[1;33m)\u001b[0m\u001b[1;33m\u001b[0m\u001b[0m\n\u001b[0m",
      "\u001b[1;32m<ipython-input-26-39786fccf20d>\u001b[0m in \u001b[0;36mMED_Matrix\u001b[1;34m(n, m)\u001b[0m\n\u001b[0;32m     25\u001b[0m \u001b[1;33m\u001b[0m\u001b[0m\n\u001b[0;32m     26\u001b[0m     \u001b[1;31m#return the min distance as computed above\u001b[0m\u001b[1;33m\u001b[0m\u001b[1;33m\u001b[0m\u001b[0m\n\u001b[1;32m---> 27\u001b[1;33m     \u001b[1;32mif\u001b[0m \u001b[0mdist\u001b[0m\u001b[1;33m[\u001b[0m\u001b[0mrow\u001b[0m\u001b[1;33m]\u001b[0m\u001b[1;33m[\u001b[0m\u001b[0mcol\u001b[0m\u001b[1;33m]\u001b[0m \u001b[1;33m>\u001b[0m\u001b[1;36m0\u001b[0m\u001b[1;33m:\u001b[0m\u001b[1;33m\u001b[0m\u001b[0m\n\u001b[0m\u001b[0;32m     28\u001b[0m         \u001b[1;32mreturn\u001b[0m \u001b[0mdist\u001b[0m\u001b[1;33m[\u001b[0m\u001b[0mrow\u001b[0m\u001b[1;33m]\u001b[0m\u001b[1;33m[\u001b[0m\u001b[0mcol\u001b[0m\u001b[1;33m]\u001b[0m\u001b[1;33m\u001b[0m\u001b[0m\n\u001b[0;32m     29\u001b[0m     \u001b[1;32melse\u001b[0m\u001b[1;33m:\u001b[0m\u001b[1;33m\u001b[0m\u001b[0m\n",
      "\u001b[1;31mUnboundLocalError\u001b[0m: local variable 'row' referenced before assignment"
     ]
    }
   ],
   "source": [
    "print (MED_Matrix(\"\", \"\"))"
   ]
  }
 ],
 "metadata": {
  "kernelspec": {
   "display_name": "Python 3",
   "language": "python",
   "name": "python3"
  },
  "language_info": {
   "codemirror_mode": {
    "name": "ipython",
    "version": 3
   },
   "file_extension": ".py",
   "mimetype": "text/x-python",
   "name": "python",
   "nbconvert_exporter": "python",
   "pygments_lexer": "ipython3",
   "version": "3.6.5"
  }
 },
 "nbformat": 4,
 "nbformat_minor": 2
}
