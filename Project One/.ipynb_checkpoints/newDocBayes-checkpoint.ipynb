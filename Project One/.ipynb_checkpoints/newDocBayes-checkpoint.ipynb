{
 "cells": [
  {
   "cell_type": "code",
   "execution_count": null,
   "metadata": {},
   "outputs": [],
   "source": [
    "import nltk\n",
    "from nltk import word_tokenize\n",
    "import numpy as npy\n",
    "import re\n",
    "def readDocs(document):\n",
    "    retThus = []\n",
    "    with open(document) as f:\n",
    "        for line in f.readlines():\n",
    "            this = line.split('\\n')\n",
    "            this = this[0].split('\\t')\n",
    "            revs = re.sub(r\"[,/?!-()*&^%|'.,]\",\"\",this[0])\n",
    "            bOw = word_tokenize(this[0].lower())\n",
    "            label = int(this[1])\n",
    "            retThus.append((bOw, label))\n",
    "    return retThus"
   ]
  }
 ],
 "metadata": {
  "kernelspec": {
   "display_name": "Python 3",
   "language": "python",
   "name": "python3"
  },
  "language_info": {
   "codemirror_mode": {
    "name": "ipython",
    "version": 3
   },
   "file_extension": ".py",
   "mimetype": "text/x-python",
   "name": "python",
   "nbconvert_exporter": "python",
   "pygments_lexer": "ipython3",
   "version": "3.6.5"
  }
 },
 "nbformat": 4,
 "nbformat_minor": 2
}
